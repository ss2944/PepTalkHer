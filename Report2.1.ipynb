{
 "cells": [
  {
   "cell_type": "code",
   "execution_count": 1,
   "metadata": {},
   "outputs": [],
   "source": [
    "import sys\n",
    "import requests\n",
    "from bs4 import BeautifulSoup\n",
    "import pandas\n",
    "import numpy as np\n",
    "import matplotlib.pyplot as plt\n",
    "import numpy as np\n",
    "from sklearn.linear_model import LinearRegression\n",
    "from sklearn.metrics import r2_score\n",
    "from scipy.special import comb\n",
    "from scipy.stats import spearmanr\n",
    "import statistics"
   ]
  },
  {
   "cell_type": "markdown",
   "metadata": {},
   "source": [
    "**Created by:** Saumya Sharma, ss2944@cornell.edu\n",
    "**Date:** June 20, 2020"
   ]
  },
  {
   "cell_type": "code",
   "execution_count": 257,
   "metadata": {},
   "outputs": [],
   "source": [
    "df= pandas.read_csv('Quotes.csv')"
   ]
  },
  {
   "cell_type": "markdown",
   "metadata": {},
   "source": [
    "# Abstract\n",
    "\n",
    "The following document consists of a handmade dataset filled with information from Urban Airship. Specifically, it contains the dates of information sent for the past year and the observations according to the following preview:"
   ]
  },
  {
   "cell_type": "code",
   "execution_count": 3,
   "metadata": {},
   "outputs": [
    {
     "data": {
      "text/html": [
       "<div>\n",
       "<style scoped>\n",
       "    .dataframe tbody tr th:only-of-type {\n",
       "        vertical-align: middle;\n",
       "    }\n",
       "\n",
       "    .dataframe tbody tr th {\n",
       "        vertical-align: top;\n",
       "    }\n",
       "\n",
       "    .dataframe thead th {\n",
       "        text-align: right;\n",
       "    }\n",
       "</style>\n",
       "<table border=\"1\" class=\"dataframe\">\n",
       "  <thead>\n",
       "    <tr style=\"text-align: right;\">\n",
       "      <th></th>\n",
       "      <th>Date</th>\n",
       "      <th>Day</th>\n",
       "      <th>Total Alerting Sends</th>\n",
       "      <th>Direct #</th>\n",
       "      <th>Silent Sends</th>\n",
       "      <th>Direct %</th>\n",
       "      <th>Attributed %</th>\n",
       "      <th>Attributed #</th>\n",
       "      <th>Text</th>\n",
       "      <th>Quote</th>\n",
       "    </tr>\n",
       "  </thead>\n",
       "  <tbody>\n",
       "    <tr>\n",
       "      <td>0</td>\n",
       "      <td>7/16/19</td>\n",
       "      <td>Tues</td>\n",
       "      <td>88</td>\n",
       "      <td>6</td>\n",
       "      <td>63</td>\n",
       "      <td>7.5</td>\n",
       "      <td>12.5</td>\n",
       "      <td>10</td>\n",
       "      <td>If you don't have any shadows, you're not in t...</td>\n",
       "      <td>1</td>\n",
       "    </tr>\n",
       "    <tr>\n",
       "      <td>1</td>\n",
       "      <td>7/18/19</td>\n",
       "      <td>Thurs</td>\n",
       "      <td>1021</td>\n",
       "      <td>22</td>\n",
       "      <td>102</td>\n",
       "      <td>3.0</td>\n",
       "      <td>9.8</td>\n",
       "      <td>72</td>\n",
       "      <td>Almost the weekend! What have you knocked out ...</td>\n",
       "      <td>0</td>\n",
       "    </tr>\n",
       "    <tr>\n",
       "      <td>2</td>\n",
       "      <td>7/22/19</td>\n",
       "      <td>Mon</td>\n",
       "      <td>1010</td>\n",
       "      <td>17</td>\n",
       "      <td>103</td>\n",
       "      <td>2.3</td>\n",
       "      <td>5.5</td>\n",
       "      <td>40</td>\n",
       "      <td>I am a woman with thoughts &amp; questions &amp; shit ...</td>\n",
       "      <td>1</td>\n",
       "    </tr>\n",
       "    <tr>\n",
       "      <td>3</td>\n",
       "      <td>7/23/19</td>\n",
       "      <td>Tues</td>\n",
       "      <td>1022</td>\n",
       "      <td>21</td>\n",
       "      <td>103</td>\n",
       "      <td>2.9</td>\n",
       "      <td>8.4</td>\n",
       "      <td>62</td>\n",
       "      <td>What are you proud of this week? P.S. You're a...</td>\n",
       "      <td>0</td>\n",
       "    </tr>\n",
       "    <tr>\n",
       "      <td>4</td>\n",
       "      <td>7/26/19</td>\n",
       "      <td>Fri</td>\n",
       "      <td>1039</td>\n",
       "      <td>22</td>\n",
       "      <td>101</td>\n",
       "      <td>3.0</td>\n",
       "      <td>6.8</td>\n",
       "      <td>50</td>\n",
       "      <td>It's a big happy Fri-YAY! What's your biggest ...</td>\n",
       "      <td>0</td>\n",
       "    </tr>\n",
       "  </tbody>\n",
       "</table>\n",
       "</div>"
      ],
      "text/plain": [
       "      Date    Day  Total Alerting Sends  Direct #  Silent Sends  Direct %  \\\n",
       "0  7/16/19   Tues                    88         6            63       7.5   \n",
       "1  7/18/19  Thurs                  1021        22           102       3.0   \n",
       "2  7/22/19    Mon                  1010        17           103       2.3   \n",
       "3  7/23/19   Tues                  1022        21           103       2.9   \n",
       "4  7/26/19    Fri                  1039        22           101       3.0   \n",
       "\n",
       "   Attributed %  Attributed #  \\\n",
       "0          12.5            10   \n",
       "1           9.8            72   \n",
       "2           5.5            40   \n",
       "3           8.4            62   \n",
       "4           6.8            50   \n",
       "\n",
       "                                                Text  Quote  \n",
       "0  If you don't have any shadows, you're not in t...      1  \n",
       "1  Almost the weekend! What have you knocked out ...      0  \n",
       "2  I am a woman with thoughts & questions & shit ...      1  \n",
       "3  What are you proud of this week? P.S. You're a...      0  \n",
       "4  It's a big happy Fri-YAY! What's your biggest ...      0  "
      ]
     },
     "execution_count": 3,
     "metadata": {},
     "output_type": "execute_result"
    }
   ],
   "source": [
    "df.head()"
   ]
  },
  {
   "cell_type": "markdown",
   "metadata": {},
   "source": [
    "We find that push notifications containing quotes are less effective than other types of notifications at resulting in app interaction. That being said, quotes may be useful in a way not measurable by its dataset. For example, quote notifications may keep app engagement front of mind in a user or encourages them to have a good day at work. Therefore, an ideal strategy derived from this data involves a mix between quotes and other types of messages.\n",
    "\n",
    "Additionally, we find that engagement is higher on Tuesdays and Thursdays and lowest on Monday, Wednesday, and Saturday. This can be used to our advantage because we can attempt to bolster engagement on the stronger days.\n",
    "\n",
    "## Next Steps\n",
    "\n",
    "From this finding, we have two next steps:\n",
    "* Finding out which type of quotes initiate a greater response\n",
    "* Which type of non-quotes initiate a greater reponse"
   ]
  },
  {
   "cell_type": "markdown",
   "metadata": {},
   "source": [
    "# How does quotes impact engagement?"
   ]
  },
  {
   "cell_type": "markdown",
   "metadata": {},
   "source": [
    "## Creating Dataset \n",
    "The following cells will create an additional column `Weekend`, where 0 is not a weekend and 1 is a weekend. This is to allow us to better understand the data and see if there are anomalies."
   ]
  },
  {
   "cell_type": "code",
   "execution_count": 262,
   "metadata": {},
   "outputs": [],
   "source": [
    "def is_day(s):\n",
    "    if s == 'Sat' or s=='Sun':\n",
    "        return 1\n",
    "    else:\n",
    "        return 0"
   ]
  },
  {
   "cell_type": "code",
   "execution_count": 263,
   "metadata": {},
   "outputs": [],
   "source": [
    "df['Weekend']= df['Day'].map(is_day)"
   ]
  },
  {
   "cell_type": "code",
   "execution_count": 261,
   "metadata": {
    "scrolled": false
   },
   "outputs": [
    {
     "data": {
      "text/html": [
       "<div>\n",
       "<style scoped>\n",
       "    .dataframe tbody tr th:only-of-type {\n",
       "        vertical-align: middle;\n",
       "    }\n",
       "\n",
       "    .dataframe tbody tr th {\n",
       "        vertical-align: top;\n",
       "    }\n",
       "\n",
       "    .dataframe thead th {\n",
       "        text-align: right;\n",
       "    }\n",
       "</style>\n",
       "<table border=\"1\" class=\"dataframe\">\n",
       "  <thead>\n",
       "    <tr style=\"text-align: right;\">\n",
       "      <th></th>\n",
       "      <th>Date</th>\n",
       "      <th>Day</th>\n",
       "      <th>Total Alerting Sends</th>\n",
       "      <th>Direct #</th>\n",
       "      <th>Silent Sends</th>\n",
       "      <th>Direct %</th>\n",
       "      <th>Attributed %</th>\n",
       "      <th>Attributed #</th>\n",
       "      <th>Text</th>\n",
       "      <th>Quote</th>\n",
       "      <th>Weekend</th>\n",
       "    </tr>\n",
       "  </thead>\n",
       "  <tbody>\n",
       "    <tr>\n",
       "      <td>0</td>\n",
       "      <td>7/16/19</td>\n",
       "      <td>Tues</td>\n",
       "      <td>88</td>\n",
       "      <td>6</td>\n",
       "      <td>63</td>\n",
       "      <td>7.5</td>\n",
       "      <td>12.5</td>\n",
       "      <td>10</td>\n",
       "      <td>If you don't have any shadows, you're not in t...</td>\n",
       "      <td>1</td>\n",
       "      <td>0</td>\n",
       "    </tr>\n",
       "    <tr>\n",
       "      <td>1</td>\n",
       "      <td>7/18/19</td>\n",
       "      <td>Thurs</td>\n",
       "      <td>1021</td>\n",
       "      <td>22</td>\n",
       "      <td>102</td>\n",
       "      <td>3.0</td>\n",
       "      <td>9.8</td>\n",
       "      <td>72</td>\n",
       "      <td>Almost the weekend! What have you knocked out ...</td>\n",
       "      <td>0</td>\n",
       "      <td>0</td>\n",
       "    </tr>\n",
       "    <tr>\n",
       "      <td>2</td>\n",
       "      <td>7/22/19</td>\n",
       "      <td>Mon</td>\n",
       "      <td>1010</td>\n",
       "      <td>17</td>\n",
       "      <td>103</td>\n",
       "      <td>2.3</td>\n",
       "      <td>5.5</td>\n",
       "      <td>40</td>\n",
       "      <td>I am a woman with thoughts &amp; questions &amp; shit ...</td>\n",
       "      <td>1</td>\n",
       "      <td>0</td>\n",
       "    </tr>\n",
       "    <tr>\n",
       "      <td>3</td>\n",
       "      <td>7/23/19</td>\n",
       "      <td>Tues</td>\n",
       "      <td>1022</td>\n",
       "      <td>21</td>\n",
       "      <td>103</td>\n",
       "      <td>2.9</td>\n",
       "      <td>8.4</td>\n",
       "      <td>62</td>\n",
       "      <td>What are you proud of this week? P.S. You're a...</td>\n",
       "      <td>0</td>\n",
       "      <td>0</td>\n",
       "    </tr>\n",
       "    <tr>\n",
       "      <td>4</td>\n",
       "      <td>7/26/19</td>\n",
       "      <td>Fri</td>\n",
       "      <td>1039</td>\n",
       "      <td>22</td>\n",
       "      <td>101</td>\n",
       "      <td>3.0</td>\n",
       "      <td>6.8</td>\n",
       "      <td>50</td>\n",
       "      <td>It's a big happy Fri-YAY! What's your biggest ...</td>\n",
       "      <td>0</td>\n",
       "      <td>0</td>\n",
       "    </tr>\n",
       "  </tbody>\n",
       "</table>\n",
       "</div>"
      ],
      "text/plain": [
       "      Date    Day  Total Alerting Sends  Direct #  Silent Sends  Direct %  \\\n",
       "0  7/16/19   Tues                    88         6            63       7.5   \n",
       "1  7/18/19  Thurs                  1021        22           102       3.0   \n",
       "2  7/22/19    Mon                  1010        17           103       2.3   \n",
       "3  7/23/19   Tues                  1022        21           103       2.9   \n",
       "4  7/26/19    Fri                  1039        22           101       3.0   \n",
       "\n",
       "   Attributed %  Attributed #  \\\n",
       "0          12.5            10   \n",
       "1           9.8            72   \n",
       "2           5.5            40   \n",
       "3           8.4            62   \n",
       "4           6.8            50   \n",
       "\n",
       "                                                Text  Quote  Weekend  \n",
       "0  If you don't have any shadows, you're not in t...      1        0  \n",
       "1  Almost the weekend! What have you knocked out ...      0        0  \n",
       "2  I am a woman with thoughts & questions & shit ...      1        0  \n",
       "3  What are you proud of this week? P.S. You're a...      0        0  \n",
       "4  It's a big happy Fri-YAY! What's your biggest ...      0        0  "
      ]
     },
     "execution_count": 261,
     "metadata": {},
     "output_type": "execute_result"
    }
   ],
   "source": [
    "df.head()"
   ]
  },
  {
   "cell_type": "markdown",
   "metadata": {},
   "source": [
    "## No Quotes"
   ]
  },
  {
   "cell_type": "code",
   "execution_count": 265,
   "metadata": {},
   "outputs": [
    {
     "data": {
      "text/html": [
       "<div>\n",
       "<style scoped>\n",
       "    .dataframe tbody tr th:only-of-type {\n",
       "        vertical-align: middle;\n",
       "    }\n",
       "\n",
       "    .dataframe tbody tr th {\n",
       "        vertical-align: top;\n",
       "    }\n",
       "\n",
       "    .dataframe thead th {\n",
       "        text-align: right;\n",
       "    }\n",
       "</style>\n",
       "<table border=\"1\" class=\"dataframe\">\n",
       "  <thead>\n",
       "    <tr style=\"text-align: right;\">\n",
       "      <th></th>\n",
       "      <th>Direct %</th>\n",
       "      <th>Attributed %</th>\n",
       "      <th>Quote</th>\n",
       "      <th>Weekend</th>\n",
       "    </tr>\n",
       "  </thead>\n",
       "  <tbody>\n",
       "    <tr>\n",
       "      <td>count</td>\n",
       "      <td>51.000000</td>\n",
       "      <td>51.000000</td>\n",
       "      <td>51.0</td>\n",
       "      <td>51.0</td>\n",
       "    </tr>\n",
       "    <tr>\n",
       "      <td>mean</td>\n",
       "      <td>1.549020</td>\n",
       "      <td>3.835294</td>\n",
       "      <td>0.0</td>\n",
       "      <td>0.0</td>\n",
       "    </tr>\n",
       "    <tr>\n",
       "      <td>std</td>\n",
       "      <td>0.660416</td>\n",
       "      <td>1.965688</td>\n",
       "      <td>0.0</td>\n",
       "      <td>0.0</td>\n",
       "    </tr>\n",
       "    <tr>\n",
       "      <td>min</td>\n",
       "      <td>0.300000</td>\n",
       "      <td>0.600000</td>\n",
       "      <td>0.0</td>\n",
       "      <td>0.0</td>\n",
       "    </tr>\n",
       "    <tr>\n",
       "      <td>25%</td>\n",
       "      <td>1.200000</td>\n",
       "      <td>2.450000</td>\n",
       "      <td>0.0</td>\n",
       "      <td>0.0</td>\n",
       "    </tr>\n",
       "    <tr>\n",
       "      <td>50%</td>\n",
       "      <td>1.400000</td>\n",
       "      <td>3.500000</td>\n",
       "      <td>0.0</td>\n",
       "      <td>0.0</td>\n",
       "    </tr>\n",
       "    <tr>\n",
       "      <td>75%</td>\n",
       "      <td>2.000000</td>\n",
       "      <td>4.900000</td>\n",
       "      <td>0.0</td>\n",
       "      <td>0.0</td>\n",
       "    </tr>\n",
       "    <tr>\n",
       "      <td>max</td>\n",
       "      <td>3.000000</td>\n",
       "      <td>9.800000</td>\n",
       "      <td>0.0</td>\n",
       "      <td>0.0</td>\n",
       "    </tr>\n",
       "  </tbody>\n",
       "</table>\n",
       "</div>"
      ],
      "text/plain": [
       "        Direct %  Attributed %  Quote  Weekend\n",
       "count  51.000000     51.000000   51.0     51.0\n",
       "mean    1.549020      3.835294    0.0      0.0\n",
       "std     0.660416      1.965688    0.0      0.0\n",
       "min     0.300000      0.600000    0.0      0.0\n",
       "25%     1.200000      2.450000    0.0      0.0\n",
       "50%     1.400000      3.500000    0.0      0.0\n",
       "75%     2.000000      4.900000    0.0      0.0\n",
       "max     3.000000      9.800000    0.0      0.0"
      ]
     },
     "execution_count": 265,
     "metadata": {},
     "output_type": "execute_result"
    }
   ],
   "source": [
    "df1 =df[df['Quote']==0][:]\n",
    "df1.drop(columns = ['Date', 'Total Alerting Sends','Direct #', 'Attributed #', 'Text','Silent Sends']).describe()"
   ]
  },
  {
   "cell_type": "markdown",
   "metadata": {},
   "source": [
    "## Quotes"
   ]
  },
  {
   "cell_type": "code",
   "execution_count": 267,
   "metadata": {},
   "outputs": [
    {
     "data": {
      "text/html": [
       "<div>\n",
       "<style scoped>\n",
       "    .dataframe tbody tr th:only-of-type {\n",
       "        vertical-align: middle;\n",
       "    }\n",
       "\n",
       "    .dataframe tbody tr th {\n",
       "        vertical-align: top;\n",
       "    }\n",
       "\n",
       "    .dataframe thead th {\n",
       "        text-align: right;\n",
       "    }\n",
       "</style>\n",
       "<table border=\"1\" class=\"dataframe\">\n",
       "  <thead>\n",
       "    <tr style=\"text-align: right;\">\n",
       "      <th></th>\n",
       "      <th>Direct %</th>\n",
       "      <th>Attributed %</th>\n",
       "      <th>Quote</th>\n",
       "      <th>Weekend</th>\n",
       "    </tr>\n",
       "  </thead>\n",
       "  <tbody>\n",
       "    <tr>\n",
       "      <td>count</td>\n",
       "      <td>51.000000</td>\n",
       "      <td>51.000000</td>\n",
       "      <td>51.0</td>\n",
       "      <td>51.000000</td>\n",
       "    </tr>\n",
       "    <tr>\n",
       "      <td>mean</td>\n",
       "      <td>1.390196</td>\n",
       "      <td>3.005882</td>\n",
       "      <td>1.0</td>\n",
       "      <td>0.058824</td>\n",
       "    </tr>\n",
       "    <tr>\n",
       "      <td>std</td>\n",
       "      <td>0.991212</td>\n",
       "      <td>1.821144</td>\n",
       "      <td>0.0</td>\n",
       "      <td>0.237635</td>\n",
       "    </tr>\n",
       "    <tr>\n",
       "      <td>min</td>\n",
       "      <td>0.200000</td>\n",
       "      <td>0.000000</td>\n",
       "      <td>1.0</td>\n",
       "      <td>0.000000</td>\n",
       "    </tr>\n",
       "    <tr>\n",
       "      <td>25%</td>\n",
       "      <td>1.000000</td>\n",
       "      <td>2.100000</td>\n",
       "      <td>1.0</td>\n",
       "      <td>0.000000</td>\n",
       "    </tr>\n",
       "    <tr>\n",
       "      <td>50%</td>\n",
       "      <td>1.200000</td>\n",
       "      <td>2.700000</td>\n",
       "      <td>1.0</td>\n",
       "      <td>0.000000</td>\n",
       "    </tr>\n",
       "    <tr>\n",
       "      <td>75%</td>\n",
       "      <td>1.500000</td>\n",
       "      <td>3.550000</td>\n",
       "      <td>1.0</td>\n",
       "      <td>0.000000</td>\n",
       "    </tr>\n",
       "    <tr>\n",
       "      <td>max</td>\n",
       "      <td>7.500000</td>\n",
       "      <td>12.500000</td>\n",
       "      <td>1.0</td>\n",
       "      <td>1.000000</td>\n",
       "    </tr>\n",
       "  </tbody>\n",
       "</table>\n",
       "</div>"
      ],
      "text/plain": [
       "        Direct %  Attributed %  Quote    Weekend\n",
       "count  51.000000     51.000000   51.0  51.000000\n",
       "mean    1.390196      3.005882    1.0   0.058824\n",
       "std     0.991212      1.821144    0.0   0.237635\n",
       "min     0.200000      0.000000    1.0   0.000000\n",
       "25%     1.000000      2.100000    1.0   0.000000\n",
       "50%     1.200000      2.700000    1.0   0.000000\n",
       "75%     1.500000      3.550000    1.0   0.000000\n",
       "max     7.500000     12.500000    1.0   1.000000"
      ]
     },
     "execution_count": 267,
     "metadata": {},
     "output_type": "execute_result"
    }
   ],
   "source": [
    "df1 =df[df['Quote']==1][:]\n",
    "df1.drop(columns = ['Date', 'Total Alerting Sends','Direct #', 'Attributed #', 'Text','Silent Sends']).describe()"
   ]
  },
  {
   "cell_type": "markdown",
   "metadata": {},
   "source": [
    "We can see that that all non-quote notifications are done on weekdays, while some quote posts are done on weekends. We can therefore remove the non-weekend quotes in an attempt to better understand the data. "
   ]
  },
  {
   "cell_type": "markdown",
   "metadata": {},
   "source": [
    "# Determining impact after removing weekends"
   ]
  },
  {
   "cell_type": "markdown",
   "metadata": {},
   "source": [
    "## No Quotes Without Weekends"
   ]
  },
  {
   "cell_type": "code",
   "execution_count": 172,
   "metadata": {},
   "outputs": [
    {
     "data": {
      "text/html": [
       "<div>\n",
       "<style scoped>\n",
       "    .dataframe tbody tr th:only-of-type {\n",
       "        vertical-align: middle;\n",
       "    }\n",
       "\n",
       "    .dataframe tbody tr th {\n",
       "        vertical-align: top;\n",
       "    }\n",
       "\n",
       "    .dataframe thead th {\n",
       "        text-align: right;\n",
       "    }\n",
       "</style>\n",
       "<table border=\"1\" class=\"dataframe\">\n",
       "  <thead>\n",
       "    <tr style=\"text-align: right;\">\n",
       "      <th></th>\n",
       "      <th>Direct %</th>\n",
       "      <th>Attributed %</th>\n",
       "      <th>Quote</th>\n",
       "    </tr>\n",
       "  </thead>\n",
       "  <tbody>\n",
       "    <tr>\n",
       "      <td>count</td>\n",
       "      <td>51.000000</td>\n",
       "      <td>51.000000</td>\n",
       "      <td>51.0</td>\n",
       "    </tr>\n",
       "    <tr>\n",
       "      <td>mean</td>\n",
       "      <td>1.549020</td>\n",
       "      <td>3.835294</td>\n",
       "      <td>0.0</td>\n",
       "    </tr>\n",
       "    <tr>\n",
       "      <td>std</td>\n",
       "      <td>0.660416</td>\n",
       "      <td>1.965688</td>\n",
       "      <td>0.0</td>\n",
       "    </tr>\n",
       "    <tr>\n",
       "      <td>min</td>\n",
       "      <td>0.300000</td>\n",
       "      <td>0.600000</td>\n",
       "      <td>0.0</td>\n",
       "    </tr>\n",
       "    <tr>\n",
       "      <td>25%</td>\n",
       "      <td>1.200000</td>\n",
       "      <td>2.450000</td>\n",
       "      <td>0.0</td>\n",
       "    </tr>\n",
       "    <tr>\n",
       "      <td>50%</td>\n",
       "      <td>1.400000</td>\n",
       "      <td>3.500000</td>\n",
       "      <td>0.0</td>\n",
       "    </tr>\n",
       "    <tr>\n",
       "      <td>75%</td>\n",
       "      <td>2.000000</td>\n",
       "      <td>4.900000</td>\n",
       "      <td>0.0</td>\n",
       "    </tr>\n",
       "    <tr>\n",
       "      <td>max</td>\n",
       "      <td>3.000000</td>\n",
       "      <td>9.800000</td>\n",
       "      <td>0.0</td>\n",
       "    </tr>\n",
       "  </tbody>\n",
       "</table>\n",
       "</div>"
      ],
      "text/plain": [
       "        Direct %  Attributed %  Quote\n",
       "count  51.000000     51.000000   51.0\n",
       "mean    1.549020      3.835294    0.0\n",
       "std     0.660416      1.965688    0.0\n",
       "min     0.300000      0.600000    0.0\n",
       "25%     1.200000      2.450000    0.0\n",
       "50%     1.400000      3.500000    0.0\n",
       "75%     2.000000      4.900000    0.0\n",
       "max     3.000000      9.800000    0.0"
      ]
     },
     "execution_count": 172,
     "metadata": {},
     "output_type": "execute_result"
    }
   ],
   "source": [
    "df1 =df[df['Quote']==0][:]\n",
    "df0 = df1[df1['Weekend']==0][:]\n",
    "df2 = df0.drop(columns = ['Date', 'Total Alerting Sends','Direct #', 'Attributed #', 'Text','Silent Sends','Weekend'])\n",
    "df2.describe()"
   ]
  },
  {
   "cell_type": "markdown",
   "metadata": {},
   "source": [
    "## Quotes Without Weekends"
   ]
  },
  {
   "cell_type": "code",
   "execution_count": 173,
   "metadata": {},
   "outputs": [
    {
     "data": {
      "text/html": [
       "<div>\n",
       "<style scoped>\n",
       "    .dataframe tbody tr th:only-of-type {\n",
       "        vertical-align: middle;\n",
       "    }\n",
       "\n",
       "    .dataframe tbody tr th {\n",
       "        vertical-align: top;\n",
       "    }\n",
       "\n",
       "    .dataframe thead th {\n",
       "        text-align: right;\n",
       "    }\n",
       "</style>\n",
       "<table border=\"1\" class=\"dataframe\">\n",
       "  <thead>\n",
       "    <tr style=\"text-align: right;\">\n",
       "      <th></th>\n",
       "      <th>Direct %</th>\n",
       "      <th>Attributed %</th>\n",
       "      <th>Quote</th>\n",
       "    </tr>\n",
       "  </thead>\n",
       "  <tbody>\n",
       "    <tr>\n",
       "      <td>count</td>\n",
       "      <td>48.000000</td>\n",
       "      <td>48.000000</td>\n",
       "      <td>48.0</td>\n",
       "    </tr>\n",
       "    <tr>\n",
       "      <td>mean</td>\n",
       "      <td>1.391667</td>\n",
       "      <td>3.031250</td>\n",
       "      <td>1.0</td>\n",
       "    </tr>\n",
       "    <tr>\n",
       "      <td>std</td>\n",
       "      <td>1.019769</td>\n",
       "      <td>1.865037</td>\n",
       "      <td>0.0</td>\n",
       "    </tr>\n",
       "    <tr>\n",
       "      <td>min</td>\n",
       "      <td>0.200000</td>\n",
       "      <td>0.000000</td>\n",
       "      <td>1.0</td>\n",
       "    </tr>\n",
       "    <tr>\n",
       "      <td>25%</td>\n",
       "      <td>1.000000</td>\n",
       "      <td>2.150000</td>\n",
       "      <td>1.0</td>\n",
       "    </tr>\n",
       "    <tr>\n",
       "      <td>50%</td>\n",
       "      <td>1.200000</td>\n",
       "      <td>2.750000</td>\n",
       "      <td>1.0</td>\n",
       "    </tr>\n",
       "    <tr>\n",
       "      <td>75%</td>\n",
       "      <td>1.500000</td>\n",
       "      <td>3.625000</td>\n",
       "      <td>1.0</td>\n",
       "    </tr>\n",
       "    <tr>\n",
       "      <td>max</td>\n",
       "      <td>7.500000</td>\n",
       "      <td>12.500000</td>\n",
       "      <td>1.0</td>\n",
       "    </tr>\n",
       "  </tbody>\n",
       "</table>\n",
       "</div>"
      ],
      "text/plain": [
       "        Direct %  Attributed %  Quote\n",
       "count  48.000000     48.000000   48.0\n",
       "mean    1.391667      3.031250    1.0\n",
       "std     1.019769      1.865037    0.0\n",
       "min     0.200000      0.000000    1.0\n",
       "25%     1.000000      2.150000    1.0\n",
       "50%     1.200000      2.750000    1.0\n",
       "75%     1.500000      3.625000    1.0\n",
       "max     7.500000     12.500000    1.0"
      ]
     },
     "execution_count": 173,
     "metadata": {},
     "output_type": "execute_result"
    }
   ],
   "source": [
    "df1 =df[df['Quote']==1][:]\n",
    "df0 = df1[df1['Weekend']==0][:]\n",
    "df2 = df0.drop(columns = ['Date', 'Total Alerting Sends','Direct #', 'Attributed #', 'Text','Silent Sends','Weekend'])\n",
    "df2.describe()"
   ]
  },
  {
   "cell_type": "markdown",
   "metadata": {},
   "source": [
    "### Comparison of Non-Quotes Versus Quote\n",
    "#### Direct %\n",
    "(mean, median)\n",
    "\n",
    "*Not Quote*:\n",
    "(1.549, 1.4)\n",
    "\n",
    "*Quote*:\n",
    "(1.398, 1.2)\n",
    "\n",
    "#### Attributed %\n",
    "*Not Quote*:\n",
    "(3.835, 3.5)\n",
    "\n",
    "*Quote*:\n",
    "(3.034, 2.75)\n",
    "\n",
    "#### Range\n",
    "(min, max)\n",
    "\n",
    "*Not Quote*:\n",
    "(0.3, 3)\n",
    "\n",
    "*Quote*:\n",
    "(0.2, 7.5)"
   ]
  },
  {
   "cell_type": "markdown",
   "metadata": {},
   "source": [
    "From each of these values, we see that the quote notifications consistently performs worse. When looking at the direct response percentages, we can see that Quotes have a value of approximately 1.3 and Non-Quotes have a percentage of approximately 1.5. When looking at attributed response percentages, Quotes are about 3, while Non-Quotes are approximate 3.6."
   ]
  },
  {
   "cell_type": "markdown",
   "metadata": {},
   "source": [
    "## Noticing this Trend Visually"
   ]
  },
  {
   "cell_type": "markdown",
   "metadata": {},
   "source": [
    "### Direct %"
   ]
  },
  {
   "cell_type": "code",
   "execution_count": 174,
   "metadata": {},
   "outputs": [
    {
     "data": {
      "image/png": "[encoded data removed]",
      "text/plain": [
       "<Figure size 432x288 with 1 Axes>"
      ]
     },
     "metadata": {
      "needs_background": "light"
     },
     "output_type": "display_data"
    },
    {
     "data": {
      "image/png": "[encoded data removed]",
      "text/plain": [
       "<Figure size 432x288 with 1 Axes>"
      ]
     },
     "metadata": {
      "needs_background": "light"
     },
     "output_type": "display_data"
    }
   ],
   "source": [
    "df1 =df[df['Quote']==0][:]\n",
    "df0 = df1[df1['Weekend']==0][:]\n",
    "df2 = df0.drop(columns = ['Date', 'Total Alerting Sends','Direct #', 'Attributed #', 'Text','Silent Sends','Weekend'])\n",
    "plt.hist(df2['Direct %'], range=(0,3))\n",
    "plt.show()\n",
    "\n",
    "df1 =df[df['Quote']==1][:]\n",
    "df0 = df1[df1['Weekend']==0][:]\n",
    "df2 = df0.drop(columns = ['Date', 'Total Alerting Sends','Direct #', 'Attributed #', 'Text','Silent Sends','Weekend'])\n",
    "plt.hist(df2['Direct %'], range=(0,3), color='pink')\n",
    "\n",
    "\n",
    "plt.title('Direct %')\n",
    "\n",
    "plt.show()\n"
   ]
  },
  {
   "cell_type": "markdown",
   "metadata": {},
   "source": [
    "### Combining the Graphs"
   ]
  },
  {
   "cell_type": "code",
   "execution_count": 175,
   "metadata": {},
   "outputs": [
    {
     "data": {
      "image/png": "[encoded data removed]",
      "text/plain": [
       "<Figure size 432x288 with 1 Axes>"
      ]
     },
     "metadata": {
      "needs_background": "light"
     },
     "output_type": "display_data"
    }
   ],
   "source": [
    "df1 =df[df['Quote']==0][:]\n",
    "df0 = df1[df1['Weekend']==0][:]\n",
    "df2 = df0.drop(columns = ['Date', 'Total Alerting Sends','Direct #', 'Attributed #', 'Text','Silent Sends','Weekend'])\n",
    "plt.hist(df2['Direct %'], range=(0,3))\n",
    "\n",
    "df1 =df[df['Quote']==1][:]\n",
    "df0 = df1[df1['Weekend']==0][:]\n",
    "df2 = df0.drop(columns = ['Date', 'Total Alerting Sends','Direct #', 'Attributed #', 'Text','Silent Sends','Weekend'])\n",
    "plt.hist(df2['Direct %'], range=(0,3), color='pink')\n",
    "\n",
    "plt.legend('NQ')\n",
    "plt.title('Direct %')\n",
    "\n",
    "\n",
    "plt.show()"
   ]
  },
  {
   "cell_type": "markdown",
   "metadata": {},
   "source": [
    "When we overlay the graphs, we can see that the blue graph, of non-quotes, performs better than the pink graph of quotes."
   ]
  },
  {
   "cell_type": "markdown",
   "metadata": {},
   "source": [
    "## Attributed %"
   ]
  },
  {
   "cell_type": "code",
   "execution_count": 176,
   "metadata": {},
   "outputs": [
    {
     "data": {
      "image/png": "[encoded data removed]",
      "text/plain": [
       "<Figure size 432x288 with 1 Axes>"
      ]
     },
     "metadata": {
      "needs_background": "light"
     },
     "output_type": "display_data"
    },
    {
     "data": {
      "image/png": "[encoded data removed]",
      "text/plain": [
       "<Figure size 432x288 with 1 Axes>"
      ]
     },
     "metadata": {
      "needs_background": "light"
     },
     "output_type": "display_data"
    }
   ],
   "source": [
    "df1 =df[df['Quote']==0][:]\n",
    "df0 = df1[df1['Weekend']==0][:]\n",
    "df2 = df0.drop(columns = ['Date', 'Total Alerting Sends','Direct #', 'Attributed #', 'Text','Silent Sends','Weekend'])\n",
    "plt.hist(df2['Attributed %'], range=(0,10))\n",
    "plt.show()\n",
    "\n",
    "df1 =df[df['Quote']==1][:]\n",
    "df0 = df1[df1['Weekend']==0][:]\n",
    "df2 = df0.drop(columns = ['Date', 'Total Alerting Sends','Direct #', 'Attributed #', 'Text','Silent Sends','Weekend'])\n",
    "plt.hist(df2['Attributed %'], range=(0,10), color='pink')\n",
    "\n",
    "\n",
    "plt.show()\n"
   ]
  },
  {
   "cell_type": "code",
   "execution_count": 177,
   "metadata": {},
   "outputs": [
    {
     "data": {
      "image/png": "[encoded data removed]",
      "text/plain": [
       "<Figure size 432x288 with 1 Axes>"
      ]
     },
     "metadata": {
      "needs_background": "light"
     },
     "output_type": "display_data"
    }
   ],
   "source": [
    "df1 =df[df['Quote']==0][:]\n",
    "df0 = df1[df1['Weekend']==0][:]\n",
    "df2 = df0.drop(columns = ['Date', 'Total Alerting Sends','Direct #', 'Attributed #', 'Text','Silent Sends','Weekend'])\n",
    "plt.hist(df2['Attributed %'], range=(0,10))\n",
    "\n",
    "\n",
    "df1 =df[df['Quote']==1][:]\n",
    "df0 = df1[df1['Weekend']==0][:]\n",
    "df2 = df0.drop(columns = ['Date', 'Total Alerting Sends','Direct #', 'Attributed #', 'Text','Silent Sends','Weekend'])\n",
    "plt.hist(df2['Attributed %'], range=(0,10), color='pink')\n",
    "\n",
    "plt.legend('NQ')\n",
    "\n",
    "plt.show()\n"
   ]
  },
  {
   "cell_type": "markdown",
   "metadata": {},
   "source": [
    "We can again see how the Quotes perform less than non-quotes."
   ]
  },
  {
   "cell_type": "markdown",
   "metadata": {},
   "source": [
    "# Day: Quote v Non-Quote"
   ]
  },
  {
   "cell_type": "markdown",
   "metadata": {},
   "source": [
    "In this data, we hoped to determine if certain types of notifications were more popular on certain days. This line of analysis was unfortunately not helpful because there is a preference in when quotes are posted and the sample size was not large enough to determine any type of relationship. Below is the analysis."
   ]
  },
  {
   "cell_type": "markdown",
   "metadata": {},
   "source": [
    "### Monday"
   ]
  },
  {
   "cell_type": "code",
   "execution_count": 178,
   "metadata": {},
   "outputs": [
    {
     "data": {
      "image/png": "[encoded data removed]",
      "text/plain": [
       "<Figure size 432x288 with 1 Axes>"
      ]
     },
     "metadata": {
      "needs_background": "light"
     },
     "output_type": "display_data"
    }
   ],
   "source": [
    "df1 =df[df['Quote']==1][:]\n",
    "df0 = df1[df1['Day']=='Mon'][:]\n",
    "df2 = df0.drop(columns = ['Date', 'Total Alerting Sends','Direct #', 'Attributed #', 'Text','Silent Sends','Weekend'])\n",
    "plt.hist(df2['Attributed %'], range=(0,10), color='pink')\n",
    "\n",
    "df1 =df[df['Quote']==0][:]\n",
    "df0 = df1[df1['Day']=='Mon'][:]\n",
    "df2 = df0.drop(columns = ['Date', 'Total Alerting Sends','Direct #', 'Attributed #', 'Text','Silent Sends','Weekend'])\n",
    "plt.hist(df2['Attributed %'], range=(0,10))\n",
    "\n",
    "\n",
    "plt.legend('QN')\n",
    "\n",
    "plt.show()\n"
   ]
  },
  {
   "cell_type": "markdown",
   "metadata": {},
   "source": [
    "### Tuesday"
   ]
  },
  {
   "cell_type": "code",
   "execution_count": 179,
   "metadata": {},
   "outputs": [
    {
     "data": {
      "image/png": "[encoded data removed]",
      "text/plain": [
       "<Figure size 432x288 with 1 Axes>"
      ]
     },
     "metadata": {
      "needs_background": "light"
     },
     "output_type": "display_data"
    }
   ],
   "source": [
    "df1 =df[df['Quote']==0][:]\n",
    "df0 = df1[df1['Day']=='Tues'][:]\n",
    "df2 = df0.drop(columns = ['Date', 'Total Alerting Sends','Direct #', 'Attributed #', 'Text','Silent Sends','Weekend'])\n",
    "plt.hist(df2['Attributed %'], range=(0,10))\n",
    "\n",
    "df1 =df[df['Quote']==1][:]\n",
    "df0 = df1[df1['Day']=='Tues'][:]\n",
    "df2 = df0.drop(columns = ['Date', 'Total Alerting Sends','Direct #', 'Attributed #', 'Text','Silent Sends','Weekend'])\n",
    "plt.hist(df2['Attributed %'], range=(0,10), color='pink')\n",
    "\n",
    "\n",
    "plt.legend('NQ')\n",
    "\n",
    "plt.show()\n"
   ]
  },
  {
   "cell_type": "markdown",
   "metadata": {},
   "source": [
    "### Wednesday"
   ]
  },
  {
   "cell_type": "code",
   "execution_count": 180,
   "metadata": {},
   "outputs": [
    {
     "data": {
      "image/png": "[encoded data removed]",
      "text/plain": [
       "<Figure size 432x288 with 1 Axes>"
      ]
     },
     "metadata": {
      "needs_background": "light"
     },
     "output_type": "display_data"
    }
   ],
   "source": [
    "df1 =df[df['Quote']==0][:]\n",
    "df0 = df1[df1['Day']=='Wed'][:]\n",
    "df2 = df0.drop(columns = ['Date', 'Total Alerting Sends','Direct #', 'Attributed #', 'Text','Silent Sends','Weekend'])\n",
    "plt.hist(df2['Attributed %'], range=(0,10))\n",
    "\n",
    "df1 =df[df['Quote']==1][:]\n",
    "df0 = df1[df1['Day']=='Wed'][:]\n",
    "df2 = df0.drop(columns = ['Date', 'Total Alerting Sends','Direct #', 'Attributed #', 'Text','Silent Sends','Weekend'])\n",
    "plt.hist(df2['Attributed %'], range=(0,10), color='pink')\n",
    "\n",
    "\n",
    "plt.legend('NQ')\n",
    "\n",
    "plt.show()\n"
   ]
  },
  {
   "cell_type": "markdown",
   "metadata": {},
   "source": [
    "### Thursday"
   ]
  },
  {
   "cell_type": "code",
   "execution_count": 181,
   "metadata": {},
   "outputs": [
    {
     "data": {
      "image/png": "[encoded data removed]",
      "text/plain": [
       "<Figure size 432x288 with 1 Axes>"
      ]
     },
     "metadata": {
      "needs_background": "light"
     },
     "output_type": "display_data"
    }
   ],
   "source": [
    "df1 =df[df['Quote']==0][:]\n",
    "df0 = df1[df1['Day']=='Thursday'][:]\n",
    "df2 = df0.drop(columns = ['Date', 'Total Alerting Sends','Direct #', 'Attributed #', 'Text','Silent Sends','Weekend'])\n",
    "plt.hist(df2['Attributed %'], range=(0,10))\n",
    "\n",
    "df1 =df[df['Quote']==1][:]\n",
    "df0 = df1[df1['Day']=='Thursday'][:]\n",
    "df2 = df0.drop(columns = ['Date', 'Total Alerting Sends','Direct #', 'Attributed #', 'Text','Silent Sends','Weekend'])\n",
    "plt.hist(df2['Attributed %'], range=(0,10), color='pink')\n",
    "\n",
    "\n",
    "plt.legend('NQ')\n",
    "\n",
    "plt.show()\n"
   ]
  },
  {
   "cell_type": "markdown",
   "metadata": {},
   "source": [
    "### Friday"
   ]
  },
  {
   "cell_type": "code",
   "execution_count": 182,
   "metadata": {},
   "outputs": [
    {
     "data": {
      "image/png": "[encoded data removed]",
      "text/plain": [
       "<Figure size 432x288 with 1 Axes>"
      ]
     },
     "metadata": {
      "needs_background": "light"
     },
     "output_type": "display_data"
    }
   ],
   "source": [
    "df1 =df[df['Quote']==0][:]\n",
    "df0 = df1[df1['Day']=='Fri'][:]\n",
    "df2 = df0.drop(columns = ['Date', 'Total Alerting Sends','Direct #', 'Attributed #', 'Text','Silent Sends','Weekend'])\n",
    "plt.hist(df2['Attributed %'], range=(0,10))\n",
    "\n",
    "df1 =df[df['Quote']==1][:]\n",
    "df0 = df1[df1['Day']=='Fri'][:]\n",
    "df2 = df0.drop(columns = ['Date', 'Total Alerting Sends','Direct #', 'Attributed #', 'Text','Silent Sends','Weekend'])\n",
    "plt.hist(df2['Attributed %'], range=(0,10), color='pink')\n",
    "\n",
    "\n",
    "plt.legend('NQ')\n",
    "\n",
    "plt.show()\n"
   ]
  },
  {
   "cell_type": "markdown",
   "metadata": {},
   "source": [
    "# Which Day is Better at Creating a Response?"
   ]
  },
  {
   "cell_type": "code",
   "execution_count": 269,
   "metadata": {},
   "outputs": [],
   "source": [
    "df= pandas.read_csv('Quotes.csv')"
   ]
  },
  {
   "cell_type": "code",
   "execution_count": 270,
   "metadata": {},
   "outputs": [],
   "source": [
    "def Sat(s):\n",
    "    if s == 'Sat':\n",
    "        return 1\n",
    "    else:\n",
    "        return 0\n",
    "    \n",
    "def Sun(s):\n",
    "    if s == 'Sun':\n",
    "        return 1\n",
    "    else:\n",
    "        return 0\n",
    "    \n",
    "def Mon(s):\n",
    "    if s == 'Mon':\n",
    "        return 1\n",
    "    else:\n",
    "        return 0\n",
    "    \n",
    "    \n",
    "def Tues(s):\n",
    "    if s == 'Tues':\n",
    "        return 1\n",
    "    else:\n",
    "        return 0\n",
    "    \n",
    "    \n",
    "def Wed(s):\n",
    "    if s == 'Wed':\n",
    "        return 1\n",
    "    else:\n",
    "        return 0\n",
    "    \n",
    "    \n",
    "def Thurs(s):\n",
    "    if s == 'Thurs':\n",
    "        return 1\n",
    "    else:\n",
    "        return 0\n",
    "    \n",
    "def Fri(s):\n",
    "    if s == 'Fri':\n",
    "        return 1\n",
    "    else:\n",
    "        return 0"
   ]
  },
  {
   "cell_type": "code",
   "execution_count": 271,
   "metadata": {},
   "outputs": [],
   "source": [
    "df['Sat']= df['Day'].map(Sat)\n",
    "df['Sun']= df['Day'].map(Sun)\n",
    "df['Mon']= df['Day'].map(Mon)\n",
    "df['Tues']= df['Day'].map(Tues)\n",
    "df['Wed']= df['Day'].map(Wed)\n",
    "df['Thurs']= df['Day'].map(Thurs)\n",
    "df['Fri']= df['Day'].map(Fri)"
   ]
  },
  {
   "cell_type": "markdown",
   "metadata": {},
   "source": [
    "## Direct %"
   ]
  },
  {
   "cell_type": "code",
   "execution_count": 300,
   "metadata": {},
   "outputs": [
    {
     "name": "stdout",
     "output_type": "stream",
     "text": [
      "mean, median\n",
      "Sun\n",
      "1.55 1.55\n",
      "Mon\n",
      "1.32 1.20\n",
      "Tues\n",
      "1.66 1.50\n",
      "Wed\n",
      "1.10 1.00\n",
      "Thurs\n",
      "1.75 1.50\n",
      "Fri\n",
      "1.36 1.35\n",
      "Sat\n",
      "1.00 1.00\n"
     ]
    }
   ],
   "source": [
    "print('mean, median')\n",
    "mean1=[]\n",
    "median1=[]\n",
    "for day in ['Sun', 'Mon', 'Tues', 'Wed', 'Thurs', 'Fri', 'Sat']:\n",
    "    df1 =df[df[day]==1][:]\n",
    "    df2 = df1.drop(columns = ['Date','Quote', 'Total Alerting Sends','Direct #', 'Attributed #', 'Text','Silent Sends', 'Sat', 'Sun', 'Mon', 'Tues', 'Wed', 'Thurs', 'Fri'])\n",
    "    print(day)\n",
    "    mean1.append(df2['Direct %'].mean())\n",
    "    median1.append(statistics.median(df2['Direct %']))\n",
    "    print('{:.2f}'.format(df2['Direct %'].mean()), '{:.2f}'.format(statistics.median(df2['Direct %'])))"
   ]
  },
  {
   "cell_type": "markdown",
   "metadata": {},
   "source": [
    "## Attributued %"
   ]
  },
  {
   "cell_type": "code",
   "execution_count": 297,
   "metadata": {},
   "outputs": [
    {
     "name": "stdout",
     "output_type": "stream",
     "text": [
      "mean, median\n",
      "Sun\n",
      "3.10 3.10\n",
      "Mon\n",
      "3.17 2.70\n",
      "Tues\n",
      "3.52 3.20\n",
      "Wed\n",
      "2.75 2.90\n",
      "Thurs\n",
      "4.23 2.60\n",
      "Fri\n",
      "3.63 3.30\n",
      "Sat\n",
      "1.60 1.60\n"
     ]
    }
   ],
   "source": [
    "print('mean, median')\n",
    "mean=[]\n",
    "median=[]\n",
    "for day in ['Sun', 'Mon', 'Tues', 'Wed', 'Thurs', 'Fri', 'Sat']:\n",
    "    df1 =df[df[day]==1][:]\n",
    "    df2 = df1.drop(columns = ['Date','Quote', 'Total Alerting Sends','Direct #', 'Attributed #', 'Text','Silent Sends', 'Sat', 'Sun', 'Mon', 'Tues', 'Wed', 'Thurs', 'Fri'])\n",
    "    print(day)\n",
    "    mean.append(df2['Attributed %'].mean())\n",
    "    median.append(statistics.median(df2['Attributed %']))\n",
    "    print('{:.2f}'.format(df2['Attributed %'].mean()), '{:.2f}'.format(statistics.median(df2['Attributed %'])))"
   ]
  },
  {
   "cell_type": "markdown",
   "metadata": {},
   "source": [
    "# Visually"
   ]
  },
  {
   "cell_type": "code",
   "execution_count": 321,
   "metadata": {},
   "outputs": [
    {
     "data": {
      "image/png": "[encoded data removed]",
      "text/plain": [
       "<Figure size 1800x1800 with 4 Axes>"
      ]
     },
     "metadata": {
      "needs_background": "light"
     },
     "output_type": "display_data"
    }
   ],
   "source": [
    "x=np.arange(7)\n",
    "xaxs = 0\n",
    "yaxs = 0\n",
    "\n",
    "fig, axs = plt.subplots(2, 2, figsize=(25, 25))\n",
    "fig.suptitle('Response to Notifications Based on Days of the Week', \n",
    "             fontsize=30,y=.92)\n",
    "\n",
    "data=[mean1, median1, mean, median]\n",
    "label=['Direct % Mean', 'Direct % Median', 'Attributed % Mean', 'Attributed % Median']\n",
    "for n in [0,1,2,3]:\n",
    "\n",
    "    axs[xaxs, yaxs].bar(x, data[n])\n",
    "    axs[xaxs, yaxs].set_title(label[n],fontsize=25)\n",
    "    axs[xaxs, yaxs].tick_params(labelsize=15)\n",
    "\n",
    "    \n",
    "    yaxs +=1\n",
    "    if yaxs == 2:\n",
    "        yaxs = 0\n",
    "        xaxs +=1\n",
    "plt.subplots_adjust(hspace=.12)  \n",
    "plt.setp(axs, xticklabels=[0, 'Sun', 'Mon', 'Tues', 'Wed', 'Thurs', 'Fri', 'Sat'], yticks=[0, 0.5, 1, 1.5, 2, 2.5, 3, 3.5, 4, 4.5])\n",
    "plt.show()"
   ]
  },
  {
   "cell_type": "markdown",
   "metadata": {},
   "source": [
    "Direct % mean and median are relatively similar, indicating that the data is not that scattered. We can conclude that Monday, Wednesday, and Saturday are the days of least engagement, while Tuesday, Thursday, and Sunday are have the most engagement.\n",
    "\n",
    "Attributed % has a little more scattered results. We can see that for the days Monday, Tuesday, and Friday the mean is greater than the median by approximate 0.5%, and Thursday's mean is greater than its median by 1.5%. This indicates that on days of engagement, there is heavy engagement, but overall attributed % is generally lower. \n",
    "\n",
    "When looking back at the acutal dataset, we can see that the anamoly is in the datapoint for July 18, 2019, which is the second highest Attributed %, and is explained by the fact that since number of users were significatnly lower, the percentage each contributed was higher. "
   ]
  },
  {
   "cell_type": "code",
   "execution_count": null,
   "metadata": {},
   "outputs": [],
   "source": []
  }
 ],
 "metadata": {
  "kernelspec": {
   "display_name": "Python 3",
   "language": "python",
   "name": "python3"
  },
  "language_info": {
   "codemirror_mode": {
    "name": "ipython",
    "version": 3
   },
   "file_extension": ".py",
   "mimetype": "text/x-python",
   "name": "python",
   "nbconvert_exporter": "python",
   "pygments_lexer": "ipython3",
   "version": "3.7.4"
  }
 },
 "nbformat": 4,
 "nbformat_minor": 2
}
